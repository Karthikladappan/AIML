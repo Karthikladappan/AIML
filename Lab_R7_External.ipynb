{
 "cells": [
  {
   "cell_type": "markdown",
   "metadata": {
    "colab_type": "text",
    "id": "4WH1Pr4KQlCh"
   },
   "source": [
    "### Build a DNN using Keras with `RELU` and `ADAM`"
   ]
  },
  {
   "cell_type": "markdown",
   "metadata": {
    "colab_type": "text",
    "id": "TbvI8LqlQlCl",
    "slideshow": {
     "slide_type": "slide"
    }
   },
   "source": [
    "#### Load tensorflow"
   ]
  },
  {
   "cell_type": "code",
   "execution_count": 3,
   "metadata": {
    "colab": {},
    "colab_type": "code",
    "id": "SPW-a-qYQlCp"
   },
   "outputs": [],
   "source": [
    "import tensorflow as tf\n",
    "import keras\n",
    "tf.reset_default_graph()\n",
    "tf.set_random_seed(45)"
   ]
  },
  {
   "cell_type": "markdown",
   "metadata": {
    "colab_type": "text",
    "id": "74cQBsi5QlCw",
    "slideshow": {
     "slide_type": "slide"
    }
   },
   "source": [
    "#### Collect Fashion mnist data from tf.keras.datasets "
   ]
  },
  {
   "cell_type": "code",
   "execution_count": 4,
   "metadata": {
    "colab": {},
    "colab_type": "code",
    "id": "wVWy0oDTr2Kj"
   },
   "outputs": [],
   "source": [
    "from keras.datasets import fashion_mnist\n",
    "(x_train, y_train), (x_test, y_test) = fashion_mnist.load_data()"
   ]
  },
  {
   "cell_type": "markdown",
   "metadata": {
    "colab_type": "text",
    "id": "no7aWYZyQlC1",
    "slideshow": {
     "slide_type": "slide"
    }
   },
   "source": [
    "#### Change train and test labels into one-hot vectors"
   ]
  },
  {
   "cell_type": "code",
   "execution_count": 5,
   "metadata": {
    "colab": {},
    "colab_type": "code",
    "id": "UX6otc4wQlC2"
   },
   "outputs": [],
   "source": [
    "from keras import backend as K\n",
    "K.tensorflow_backend._get_available_gpus()\n",
    "\n",
    "y_train = tf.keras.utils.to_categorical(y_train, num_classes=10)\n",
    "y_test = tf.keras.utils.to_categorical(y_test, num_classes=10)"
   ]
  },
  {
   "cell_type": "markdown",
   "metadata": {
    "colab_type": "text",
    "id": "QjNrRTdoQlC5",
    "slideshow": {
     "slide_type": "slide"
    }
   },
   "source": [
    "#### Build the Graph"
   ]
  },
  {
   "cell_type": "markdown",
   "metadata": {
    "colab_type": "text",
    "id": "CDJ9DHVNQlC7"
   },
   "source": [
    "#### Initialize model, reshape & normalize data"
   ]
  },
  {
   "cell_type": "code",
   "execution_count": 6,
   "metadata": {
    "colab": {
     "base_uri": "https://localhost:8080/",
     "height": 88
    },
    "colab_type": "code",
    "id": "pCDQs_g1QlC8",
    "outputId": "e854b4d2-903a-4515-c21b-bd6a6e4fe2f8"
   },
   "outputs": [
    {
     "name": "stdout",
     "output_type": "stream",
     "text": [
      "(60000, 28, 28)\n",
      "(10000, 28, 28)\n",
      "(60000, 784)\n",
      "(10000, 784)\n"
     ]
    }
   ],
   "source": [
    "from keras.models import Sequential\n",
    "from keras.layers import Dense\n",
    "from keras import regularizers\n",
    "from keras import optimizers\n",
    "import keras\n",
    "\n",
    "\n",
    "# # normalize inputs from 0-255 to 0-1\n",
    "x_train = x_train / 255.0\n",
    "x_test = x_test / 255.0\n",
    "\n",
    "print(x_train.shape)\n",
    "print(x_test.shape)\n",
    "\n",
    "x_train = x_train.reshape(60000, 784)\n",
    "print(x_train.shape)\n",
    "x_test = x_test.reshape(10000, 784)\n",
    "print(x_test.shape)\n",
    "\n",
    "#Initialize model, reshape & normalize data\n",
    "model = keras.models.Sequential()\n",
    "model.add(keras.layers.BatchNormalization())"
   ]
  },
  {
   "cell_type": "markdown",
   "metadata": {
    "colab_type": "text",
    "id": "kBGwTTilQlDD",
    "slideshow": {
     "slide_type": "slide"
    }
   },
   "source": [
    "#### Add two fully connected layers with 200 and 100 neurons respectively with `relu` activations. Add a dropout layer with `p=0.25`"
   ]
  },
  {
   "cell_type": "code",
   "execution_count": 7,
   "metadata": {
    "colab": {
     "base_uri": "https://localhost:8080/",
     "height": 88
    },
    "colab_type": "code",
    "id": "IXbfpfOzQlDF",
    "outputId": "f46a2e3a-2634-4e9e-88bd-57bb8de1ff0c"
   },
   "outputs": [],
   "source": [
    "#Hidden layers\n",
    "model.add(keras.layers.Dense(200, activation='relu', name='Layer_1'))\n",
    "model.add(keras.layers.Dense(100, activation='relu', name='Layer_2'))\n",
    "\n",
    "#Hidden layers\n",
    "model.add(keras.layers.Dense(200, activation='relu', name='Layer_3'))\n",
    "model.add(keras.layers.Dense(100, activation='relu', name='Layer_4'))\n",
    "\n",
    "#Dropout layer\n",
    "model.add(keras.layers.Dropout(0.25))"
   ]
  },
  {
   "cell_type": "markdown",
   "metadata": {
    "colab_type": "text",
    "id": "5I8f5otcQlDJ"
   },
   "source": [
    "### Add the output layer with a fully connected layer with 10 neurons with `softmax` activation. Use `categorical_crossentropy` loss and `adam` optimizer and train the network. And, report the final validation."
   ]
  },
  {
   "cell_type": "code",
   "execution_count": 8,
   "metadata": {},
   "outputs": [],
   "source": [
    "#Output layer\n",
    "model.add(keras.layers.Dense(10, activation='softmax', name='Output'))\n",
    "model.compile(optimizer='adam', loss='categorical_crossentropy', metrics=['accuracy'])"
   ]
  },
  {
   "cell_type": "code",
   "execution_count": 9,
   "metadata": {},
   "outputs": [
    {
     "name": "stdout",
     "output_type": "stream",
     "text": [
      "Train on 60000 samples, validate on 60000 samples\n",
      "Epoch 1/50\n",
      "60000/60000 [==============================] - 13s 215us/step - loss: 0.5139 - acc: 0.8181 - val_loss: 0.3533 - val_acc: 0.8675\n",
      "Epoch 2/50\n",
      "60000/60000 [==============================] - 11s 187us/step - loss: 0.3919 - acc: 0.8595 - val_loss: 0.3141 - val_acc: 0.8821\n",
      "Epoch 3/50\n",
      "60000/60000 [==============================] - 11s 182us/step - loss: 0.3532 - acc: 0.8730 - val_loss: 0.3152 - val_acc: 0.8789\n",
      "Epoch 4/50\n",
      "60000/60000 [==============================] - 11s 185us/step - loss: 0.3302 - acc: 0.8809 - val_loss: 0.2533 - val_acc: 0.9052\n",
      "Epoch 5/50\n",
      "60000/60000 [==============================] - 12s 193us/step - loss: 0.3106 - acc: 0.8876 - val_loss: 0.2652 - val_acc: 0.9040\n",
      "Epoch 6/50\n",
      "60000/60000 [==============================] - 12s 196us/step - loss: 0.2938 - acc: 0.8931 - val_loss: 0.2521 - val_acc: 0.9066\n",
      "Epoch 7/50\n",
      "60000/60000 [==============================] - 11s 187us/step - loss: 0.2826 - acc: 0.8973 - val_loss: 0.2197 - val_acc: 0.9179\n",
      "Epoch 8/50\n",
      "60000/60000 [==============================] - 12s 197us/step - loss: 0.2682 - acc: 0.9010 - val_loss: 0.2230 - val_acc: 0.9178\n",
      "Epoch 9/50\n",
      "60000/60000 [==============================] - 13s 209us/step - loss: 0.2658 - acc: 0.9026 - val_loss: 0.2182 - val_acc: 0.9162\n",
      "Epoch 10/50\n",
      "60000/60000 [==============================] - 12s 205us/step - loss: 0.2526 - acc: 0.9074 - val_loss: 0.2125 - val_acc: 0.9217\n",
      "Epoch 11/50\n",
      "60000/60000 [==============================] - 12s 204us/step - loss: 0.2427 - acc: 0.9103 - val_loss: 0.1913 - val_acc: 0.9281\n",
      "Epoch 12/50\n",
      "60000/60000 [==============================] - 12s 205us/step - loss: 0.2369 - acc: 0.9128 - val_loss: 0.1953 - val_acc: 0.9269\n",
      "Epoch 13/50\n",
      "60000/60000 [==============================] - 12s 198us/step - loss: 0.2351 - acc: 0.9143 - val_loss: 0.1854 - val_acc: 0.9308\n",
      "Epoch 14/50\n",
      "60000/60000 [==============================] - 12s 196us/step - loss: 0.2226 - acc: 0.9185 - val_loss: 0.1724 - val_acc: 0.9365\n",
      "Epoch 15/50\n",
      "60000/60000 [==============================] - 11s 187us/step - loss: 0.2204 - acc: 0.9202 - val_loss: 0.1728 - val_acc: 0.9354\n",
      "Epoch 16/50\n",
      "60000/60000 [==============================] - 11s 186us/step - loss: 0.2138 - acc: 0.9213 - val_loss: 0.1732 - val_acc: 0.9365\n",
      "Epoch 17/50\n",
      "60000/60000 [==============================] - 11s 188us/step - loss: 0.2088 - acc: 0.9229 - val_loss: 0.1662 - val_acc: 0.9380\n",
      "Epoch 18/50\n",
      "60000/60000 [==============================] - 11s 191us/step - loss: 0.2014 - acc: 0.9255 - val_loss: 0.1560 - val_acc: 0.9429\n",
      "Epoch 19/50\n",
      "60000/60000 [==============================] - 11s 187us/step - loss: 0.2018 - acc: 0.9266 - val_loss: 0.1607 - val_acc: 0.9401\n",
      "Epoch 20/50\n",
      "60000/60000 [==============================] - 16s 265us/step - loss: 0.1982 - acc: 0.9293 - val_loss: 0.1563 - val_acc: 0.9422\n",
      "Epoch 21/50\n",
      "60000/60000 [==============================] - 14s 230us/step - loss: 0.1914 - acc: 0.9306 - val_loss: 0.1609 - val_acc: 0.9434\n",
      "Epoch 22/50\n",
      "60000/60000 [==============================] - 12s 195us/step - loss: 0.1860 - acc: 0.9319 - val_loss: 0.1575 - val_acc: 0.9399\n",
      "Epoch 23/50\n",
      "60000/60000 [==============================] - 11s 189us/step - loss: 0.1856 - acc: 0.9332 - val_loss: 0.1260 - val_acc: 0.9533\n",
      "Epoch 24/50\n",
      "60000/60000 [==============================] - 11s 189us/step - loss: 0.1797 - acc: 0.9346 - val_loss: 0.1294 - val_acc: 0.9517\n",
      "Epoch 25/50\n",
      "60000/60000 [==============================] - 11s 188us/step - loss: 0.1768 - acc: 0.9347 - val_loss: 0.1369 - val_acc: 0.9502\n",
      "Epoch 26/50\n",
      "60000/60000 [==============================] - 11s 186us/step - loss: 0.1749 - acc: 0.9374 - val_loss: 0.1274 - val_acc: 0.9535\n",
      "Epoch 27/50\n",
      "60000/60000 [==============================] - 11s 188us/step - loss: 0.1740 - acc: 0.9364 - val_loss: 0.1510 - val_acc: 0.9475\n",
      "Epoch 28/50\n",
      "60000/60000 [==============================] - 12s 194us/step - loss: 0.1698 - acc: 0.9372 - val_loss: 0.1214 - val_acc: 0.9544\n",
      "Epoch 29/50\n",
      "60000/60000 [==============================] - 12s 194us/step - loss: 0.1681 - acc: 0.9398 - val_loss: 0.1478 - val_acc: 0.9472\n",
      "Epoch 30/50\n",
      "60000/60000 [==============================] - 13s 214us/step - loss: 0.1688 - acc: 0.9394 - val_loss: 0.1308 - val_acc: 0.9546\n",
      "Epoch 31/50\n",
      "60000/60000 [==============================] - 13s 221us/step - loss: 0.1600 - acc: 0.9417 - val_loss: 0.1188 - val_acc: 0.9563\n",
      "Epoch 32/50\n",
      "60000/60000 [==============================] - 11s 188us/step - loss: 0.1626 - acc: 0.9419 - val_loss: 0.1300 - val_acc: 0.9550\n",
      "Epoch 33/50\n",
      "60000/60000 [==============================] - 11s 184us/step - loss: 0.1582 - acc: 0.9435 - val_loss: 0.1327 - val_acc: 0.9550\n",
      "Epoch 34/50\n",
      "60000/60000 [==============================] - 11s 181us/step - loss: 0.1540 - acc: 0.9454 - val_loss: 0.0978 - val_acc: 0.9644\n",
      "Epoch 35/50\n",
      "60000/60000 [==============================] - 11s 183us/step - loss: 0.1497 - acc: 0.9469 - val_loss: 0.1127 - val_acc: 0.9618\n",
      "Epoch 36/50\n",
      "60000/60000 [==============================] - 11s 191us/step - loss: 0.1592 - acc: 0.9438 - val_loss: 0.1025 - val_acc: 0.9625\n",
      "Epoch 37/50\n",
      "60000/60000 [==============================] - 11s 184us/step - loss: 0.1481 - acc: 0.9476 - val_loss: 0.1080 - val_acc: 0.9615\n",
      "Epoch 38/50\n",
      "60000/60000 [==============================] - 13s 223us/step - loss: 0.1490 - acc: 0.9469 - val_loss: 0.1058 - val_acc: 0.9622\n",
      "Epoch 39/50\n",
      "60000/60000 [==============================] - 12s 199us/step - loss: 0.1432 - acc: 0.9489 - val_loss: 0.0913 - val_acc: 0.9683\n",
      "Epoch 40/50\n",
      "60000/60000 [==============================] - 11s 191us/step - loss: 0.1457 - acc: 0.9484 - val_loss: 0.1014 - val_acc: 0.9638\n",
      "Epoch 41/50\n",
      "60000/60000 [==============================] - 11s 188us/step - loss: 0.1463 - acc: 0.9486 - val_loss: 0.0956 - val_acc: 0.9661\n",
      "Epoch 42/50\n",
      "60000/60000 [==============================] - 11s 183us/step - loss: 0.1414 - acc: 0.9492 - val_loss: 0.1048 - val_acc: 0.9668\n",
      "Epoch 43/50\n",
      "60000/60000 [==============================] - 11s 181us/step - loss: 0.1386 - acc: 0.9505 - val_loss: 0.0900 - val_acc: 0.9670\n",
      "Epoch 44/50\n",
      "60000/60000 [==============================] - 12s 199us/step - loss: 0.1357 - acc: 0.9512 - val_loss: 0.0959 - val_acc: 0.9674\n",
      "Epoch 45/50\n",
      "60000/60000 [==============================] - 12s 207us/step - loss: 0.1354 - acc: 0.9527 - val_loss: 0.1096 - val_acc: 0.9616\n",
      "Epoch 46/50\n",
      "60000/60000 [==============================] - 12s 199us/step - loss: 0.1353 - acc: 0.9521 - val_loss: 0.0880 - val_acc: 0.9687\n",
      "Epoch 47/50\n",
      "60000/60000 [==============================] - 11s 191us/step - loss: 0.1321 - acc: 0.9535 - val_loss: 0.1055 - val_acc: 0.9630\n",
      "Epoch 48/50\n",
      "60000/60000 [==============================] - 12s 192us/step - loss: 0.1344 - acc: 0.9540 - val_loss: 0.0947 - val_acc: 0.9677\n",
      "Epoch 49/50\n",
      "60000/60000 [==============================] - 11s 191us/step - loss: 0.1330 - acc: 0.9539 - val_loss: 0.0950 - val_acc: 0.9694\n",
      "Epoch 50/50\n",
      "60000/60000 [==============================] - 11s 185us/step - loss: 0.1270 - acc: 0.9553 - val_loss: 0.0921 - val_acc: 0.9687\n"
     ]
    },
    {
     "data": {
      "text/plain": [
       "<keras.callbacks.History at 0x25fe8cf1748>"
      ]
     },
     "execution_count": 9,
     "metadata": {},
     "output_type": "execute_result"
    }
   ],
   "source": [
    "#Train the model\n",
    "model.fit(x_train,y_train,          \n",
    "          validation_data=(x_train,y_train),\n",
    "          epochs=50,\n",
    "          batch_size=30)"
   ]
  },
  {
   "cell_type": "code",
   "execution_count": 11,
   "metadata": {},
   "outputs": [
    {
     "name": "stdout",
     "output_type": "stream",
     "text": [
      "Model: \"sequential_1\"\n",
      "_________________________________________________________________\n",
      "Layer (type)                 Output Shape              Param #   \n",
      "=================================================================\n",
      "batch_normalization_1 (Batch (None, 784)               3136      \n",
      "_________________________________________________________________\n",
      "Layer_1 (Dense)              (None, 200)               157000    \n",
      "_________________________________________________________________\n",
      "Layer_2 (Dense)              (None, 100)               20100     \n",
      "_________________________________________________________________\n",
      "Layer_3 (Dense)              (None, 200)               20200     \n",
      "_________________________________________________________________\n",
      "Layer_4 (Dense)              (None, 100)               20100     \n",
      "_________________________________________________________________\n",
      "dropout_1 (Dropout)          (None, 100)               0         \n",
      "_________________________________________________________________\n",
      "Output (Dense)               (None, 10)                1010      \n",
      "=================================================================\n",
      "Total params: 221,546\n",
      "Trainable params: 219,978\n",
      "Non-trainable params: 1,568\n",
      "_________________________________________________________________\n"
     ]
    }
   ],
   "source": [
    "model.summary()"
   ]
  },
  {
   "cell_type": "code",
   "execution_count": 12,
   "metadata": {},
   "outputs": [],
   "source": [
    "model.save('mnist_R7_externalLab.h5')"
   ]
  },
  {
   "cell_type": "code",
   "execution_count": null,
   "metadata": {},
   "outputs": [],
   "source": []
  }
 ],
 "metadata": {
  "colab": {
   "collapsed_sections": [],
   "name": "updated_R7_ExternalLab_Questions.ipynb",
   "provenance": [],
   "version": "0.3.2"
  },
  "kernelspec": {
   "display_name": "Python 3",
   "language": "python",
   "name": "python3"
  },
  "language_info": {
   "codemirror_mode": {
    "name": "ipython",
    "version": 3
   },
   "file_extension": ".py",
   "mimetype": "text/x-python",
   "name": "python",
   "nbconvert_exporter": "python",
   "pygments_lexer": "ipython3",
   "version": "3.6.5"
  }
 },
 "nbformat": 4,
 "nbformat_minor": 1
}
